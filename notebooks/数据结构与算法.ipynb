{
 "cells": [
  {
   "cell_type": "markdown",
   "metadata": {},
   "source": [
    "### 二分查找"
   ]
  },
  {
   "cell_type": "code",
   "execution_count": 181,
   "metadata": {},
   "outputs": [
    {
     "name": "stdout",
     "output_type": "stream",
     "text": [
      "6\n",
      "[1, 2, 3, 10, 11, 12, 14, 16, 18, 19, 20, 21, 24, 25, 27, 28, 31, 33, 35, 36, 37, 38, 41, 42, 44, 46, 48, 49, 54, 58, 59, 61, 62, 63, 64, 65, 66, 67, 68, 69, 70, 71, 72, 73, 76, 77, 78, 79, 80, 83, 84, 89, 92, 93, 94, 95, 96, 98, 99]\n",
      "46\n"
     ]
    }
   ],
   "source": [
    "from random import randint\n",
    "\n",
    "def binary_search(list_, item):\n",
    "    \"\"\"\n",
    "    二分查找\n",
    "    输入：列表，目标数\n",
    "    返回：目标数下标，或返回 None\n",
    "    \"\"\"\n",
    "    low = 0\n",
    "    high = len(list_) - 1\n",
    "\n",
    "    while low <= high:\n",
    "        mid = (low + high) // 2\n",
    "        guess = list_[mid]\n",
    "        if guess == item:\n",
    "            return mid\n",
    "        if guess > item:\n",
    "            high = mid - 1\n",
    "        else:\n",
    "            low = mid + 1\n",
    "    return None\n",
    "\n",
    "# 跑用例\n",
    "my_list = [1, 3, 7, 9, 29, 34, 87]\n",
    "print(binary_search(my_list, 87))\n",
    "\n",
    "list2 = []\n",
    "for _ in range(100):\n",
    "    list2.append(randint(1, 100))\n",
    "list2.sort()\n",
    "list2 = list(set(list2))\n",
    "print(list2)\n",
    "print(binary_search(list2, 78))"
   ]
  },
  {
   "cell_type": "markdown",
   "metadata": {},
   "source": [
    "### 插入排序"
   ]
  },
  {
   "cell_type": "code",
   "execution_count": 357,
   "metadata": {},
   "outputs": [
    {
     "name": "stdout",
     "output_type": "stream",
     "text": [
      "[69, 26, 95, 98, 27, 8, 36, 33, 41, 54, 62, 64, 97, 20, 47, 11, 97, 27, 73, 73, 52, 95, 71, 25, 95, 56, 100, 3, 26, 45, 50, 87, 67, 37, 31, 44, 52, 1, 44, 2, 35, 69, 45, 26, 96, 81, 77, 27, 34, 75, 53, 87, 67, 2, 74, 95, 2, 22, 68, 91, 41, 18, 58, 86, 83, 29, 96, 83, 55, 37, 4, 62, 73, 27, 65, 18, 100, 51, 95, 47, 91, 13, 100, 29, 78, 1, 39, 46, 46, 66, 18, 40, 32, 72, 41, 48, 3, 69, 52, 20]\n",
      "[1, 1, 2, 2, 2, 3, 3, 4, 8, 11, 13, 18, 18, 18, 20, 20, 22, 25, 26, 26, 26, 27, 27, 27, 27, 29, 29, 31, 32, 33, 34, 35, 36, 37, 37, 39, 40, 41, 41, 41, 44, 44, 45, 45, 46, 46, 47, 47, 48, 50, 51, 52, 52, 52, 53, 54, 55, 56, 58, 62, 62, 64, 65, 66, 67, 67, 68, 69, 69, 69, 71, 72, 73, 73, 73, 74, 75, 77, 78, 81, 83, 83, 86, 87, 87, 91, 91, 95, 95, 95, 95, 95, 96, 96, 97, 97, 98, 100, 100, 100]\n"
     ]
    }
   ],
   "source": [
    "# 排入排序\n",
    "def binary_search(arr):\n",
    "    length = len(arr)\n",
    "    for i in range(1, length):  # 未排序的，从第2个元素开始（设第1个元素是排序好的）\n",
    "        key = arr[i]  # 每次将第一个未排序的元素取出\n",
    "        j = i - 1  # 已排序的，从第1个元素至未排序的前一个元素\n",
    "        while j >= 0 and arr[j] > key:  # 从已排序的元素中倒序遍历，若已排序中的元素大于当前未排序元素，则向右移一位，给当前未排序元素“让位”以插入。\n",
    "            arr[j+1] = arr[j]\n",
    "            j = j - 1\n",
    "        arr[j+1] = key\n",
    "    return arr\n",
    "\n",
    "# 跑用例\n",
    "from random import randint\n",
    "\n",
    "arr = []\n",
    "for _ in range(100):\n",
    "    arr.append(randint(1, 100))\n",
    "print(arr)\n",
    "print(binary_search(arr))\n"
   ]
  },
  {
   "cell_type": "markdown",
   "metadata": {},
   "source": [
    "### 冒泡排序"
   ]
  },
  {
   "cell_type": "code",
   "execution_count": 253,
   "metadata": {},
   "outputs": [
    {
     "name": "stdout",
     "output_type": "stream",
     "text": [
      "[37, 68, 5, 11, 67, 27, 30, 24, 25, 58, 71, 6, 79, 57, 62, 69, 94, 9, 92, 69, 7, 100, 35, 20, 97, 64, 87, 40, 71, 29, 74, 18, 31, 35, 18, 13, 32, 2, 97, 50, 61, 98, 10, 8, 80, 13, 25, 34, 68, 71, 20, 41, 3, 29, 100, 50, 6, 69, 50, 13, 87, 78, 24, 67, 58, 31, 28, 83, 11, 62, 84, 38, 40, 19, 55, 40, 11, 14, 65, 69, 1, 22, 37, 25, 11, 87, 36, 1, 77, 85, 97, 84, 77, 87, 39, 15, 76, 46, 58, 91]\n",
      "[1, 1, 2, 3, 5, 6, 6, 7, 8, 9, 10, 11, 11, 11, 11, 13, 13, 13, 14, 15, 18, 18, 19, 20, 20, 22, 24, 24, 25, 25, 25, 27, 28, 29, 29, 30, 31, 31, 32, 34, 35, 35, 36, 37, 37, 38, 39, 40, 40, 40, 41, 46, 50, 50, 50, 55, 57, 58, 58, 58, 61, 62, 62, 64, 65, 67, 67, 68, 68, 69, 69, 69, 69, 71, 71, 71, 74, 76, 77, 77, 78, 79, 80, 83, 84, 84, 85, 87, 87, 87, 87, 91, 92, 94, 97, 97, 97, 98, 100, 100]\n"
     ]
    }
   ],
   "source": [
    "# 冒泡排序\n",
    "def bubble_sort(arr):\n",
    "    length = len(arr)\n",
    "    for i in range(length):  # 0 ≤ i < length\n",
    "        for j in range(i+1, length)[::-1]:  # i+1 ≤ j < length\n",
    "            if arr[j] < arr[j-1]:\n",
    "                temp = arr[j-1]\n",
    "                arr[j-1] = arr[j]\n",
    "                arr[j] = temp\n",
    "    return arr\n",
    "\n",
    "# 跑用例\n",
    "from random import randint\n",
    "\n",
    "arr = []\n",
    "for _ in range(100):\n",
    "    arr.append(randint(1, 100))\n",
    "print(arr)\n",
    "print(bubble_sort(arr))\n"
   ]
  },
  {
   "cell_type": "markdown",
   "metadata": {},
   "source": [
    "### 选择排序"
   ]
  },
  {
   "cell_type": "code",
   "execution_count": 288,
   "metadata": {},
   "outputs": [
    {
     "name": "stdout",
     "output_type": "stream",
     "text": [
      "[18, 57, 100, 67, 70, 62, 89, 97, 44, 70, 3, 29, 43, 29, 81, 53, 93, 43, 86, 90, 33, 56, 83, 64, 95, 29, 44, 49, 87, 65, 85, 55, 64, 78, 37, 98, 92, 30, 39, 87, 39, 16, 2, 81, 13, 93, 84, 93, 71, 35, 91, 88, 21, 65, 59, 16, 28, 21, 54, 42, 49, 24, 2, 55, 72, 85, 97, 36, 17, 22, 92, 51, 25, 58, 44, 65, 94, 56, 13, 67, 33, 50, 86, 59, 74, 77, 72, 69, 66, 16, 78, 38, 43, 7, 57, 72, 48, 29, 47, 70]\n",
      "[2, 2, 3, 7, 13, 13, 16, 16, 16, 17, 18, 21, 21, 22, 24, 25, 28, 29, 29, 29, 29, 30, 33, 33, 35, 36, 37, 38, 39, 39, 42, 43, 43, 43, 44, 44, 44, 47, 48, 49, 49, 50, 51, 53, 54, 55, 55, 56, 56, 57, 57, 58, 59, 59, 62, 64, 64, 65, 65, 65, 66, 67, 67, 69, 70, 70, 70, 71, 72, 72, 72, 74, 77, 78, 78, 81, 81, 83, 84, 85, 85, 86, 86, 87, 87, 88, 89, 90, 91, 92, 92, 93, 93, 93, 94, 95, 97, 97, 98, 100]\n"
     ]
    }
   ],
   "source": [
    "def selection_sort(arr):\n",
    "    length = len(arr)\n",
    "    for i in range(length):\n",
    "        min_key = i\n",
    "        for j in range(i+1, length):\n",
    "            if arr[j] < arr[min_key]:\n",
    "                min_key = j\n",
    "        temp = arr[i]\n",
    "        arr[i] = arr[min_key]\n",
    "        arr[min_key] = temp\n",
    "    return arr\n",
    "\n",
    "# 跑用例\n",
    "from random import randint\n",
    "\n",
    "arr = []\n",
    "for _ in range(100):\n",
    "    arr.append(randint(1, 100))\n",
    "print(arr)\n",
    "print(selection_sort(arr))"
   ]
  },
  {
   "cell_type": "markdown",
   "metadata": {},
   "source": [
    "### 归并排序"
   ]
  },
  {
   "cell_type": "code",
   "execution_count": 33,
   "metadata": {},
   "outputs": [
    {
     "name": "stdout",
     "output_type": "stream",
     "text": [
      "[82, 29, 9, 89, 54, 15, 30, 15, 58, 66, 9, 15, 16, 31, 93, 47, 92, 97, 28, 91, 55, 3, 59, 40, 34, 74, 39, 5, 25, 45, 35, 45, 42, 57, 53, 33, 47, 85, 1, 63, 16, 79, 26, 50, 17, 87, 90, 46, 44, 59]\n",
      "[1, 3, 5, 5, 7, 7, 7, 9, 9, 9, 12, 12, 12, 14, 15, 15, 15, 15, 16, 16, 16, 17, 17, 18, 18, 21, 22, 23, 24, 25, 25, 26, 28, 28, 28, 29, 30, 31, 33, 33, 34, 34, 35, 35, 38, 39, 39, 40, 42, 44]\n",
      "True\n"
     ]
    }
   ],
   "source": [
    "def merge(arr1, arr2):\n",
    "    temp = []\n",
    "    i = j = 0\n",
    "    while i < len(arr1) and j < len(arr2):\n",
    "        if arr1[i] <= arr2[j]:\n",
    "            temp.append(arr1[i])\n",
    "            i += 1\n",
    "        else:\n",
    "            temp.append(arr2[j])\n",
    "            j += 1\n",
    "    \n",
    "    if i == len(arr1):\n",
    "        for v in arr2[j:]:\n",
    "            temp.append(v)\n",
    "    else:\n",
    "        for v in arr1[i:]:\n",
    "            temp.append(v)\n",
    "    \n",
    "    return temp\n",
    "\n",
    "\n",
    "def merge_sort(arr):\n",
    "    if len(arr) <= 1:\n",
    "        return arr\n",
    "    mid = len(arr) // 2\n",
    "    left = merge_sort(arr[:mid])\n",
    "    right = merge_sort(arr[mid:])\n",
    "    return merge(left, right)\n",
    "\n",
    "# 跑用例\n",
    "from random import randint\n",
    "\n",
    "arr = []\n",
    "for _ in range(100):\n",
    "    arr.append(randint(1, 100))\n",
    "print(arr[:50])\n",
    "sort_arr = merge_sort(arr)\n",
    "print(sort_arr[:50])\n",
    "if sorted(arr) == sort_arr:\n",
    "    print(True)\n",
    "else:\n",
    "    print(False)\n"
   ]
  }
 ],
 "metadata": {
  "interpreter": {
   "hash": "3f21bcc83cdad6d6268ffdaba3abb3fc18875272c09e7772d347b7e12f9a881f"
  },
  "kernelspec": {
   "display_name": "Python 3.9.5 64-bit ('Jupyter': venv)",
   "language": "python",
   "name": "python3"
  },
  "language_info": {
   "codemirror_mode": {
    "name": "ipython",
    "version": 3
   },
   "file_extension": ".py",
   "mimetype": "text/x-python",
   "name": "python",
   "nbconvert_exporter": "python",
   "pygments_lexer": "ipython3",
   "version": "3.9.10"
  },
  "orig_nbformat": 4
 },
 "nbformat": 4,
 "nbformat_minor": 2
}
