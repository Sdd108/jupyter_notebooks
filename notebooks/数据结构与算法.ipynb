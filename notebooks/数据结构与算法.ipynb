{
 "cells": [
  {
   "cell_type": "markdown",
   "metadata": {},
   "source": [
    "### 二分查找"
   ]
  },
  {
   "cell_type": "code",
   "execution_count": 167,
   "metadata": {},
   "outputs": [
    {
     "name": "stdout",
     "output_type": "stream",
     "text": [
      "6\n",
      "[2, 5, 6, 7, 8, 9, 10, 11, 12, 13, 15, 18, 21, 23, 24, 26, 28, 29, 35, 36, 37, 39, 42, 43, 44, 46, 47, 48, 50, 51, 52, 54, 56, 57, 58, 61, 62, 63, 64, 67, 69, 72, 73, 75, 77, 79, 80, 81, 82, 83, 84, 85, 87, 88, 91, 92, 95, 97, 99]\n",
      "None\n"
     ]
    }
   ],
   "source": [
    "from random import randint\n",
    "\n",
    "def binary_search(list_, item):\n",
    "    \"\"\"\n",
    "    二分查找\n",
    "    输入：列表，目标数\n",
    "    返回：目标数下标，或返回 None\n",
    "    \"\"\"\n",
    "    low = 0\n",
    "    high = len(list_) - 1\n",
    "\n",
    "    while low <= high:\n",
    "        mid = (low + high) // 2\n",
    "        guess = list_[mid]\n",
    "        if guess == item:\n",
    "            return mid\n",
    "        if guess > item:\n",
    "            high = mid - 1\n",
    "        else:\n",
    "            low = mid + 1\n",
    "    return None\n",
    "\n",
    "# 跑用例\n",
    "my_list = [1, 3, 7, 9, 29, 34, 87]\n",
    "print(binary_search(my_list, 87))\n",
    "\n",
    "list2 = []\n",
    "for _ in range(100):\n",
    "    list2.append(randint(1, 100))\n",
    "list2.sort()\n",
    "list2 = list(set(list2))\n",
    "print(list2)\n",
    "print(binary_search(list2, 78))"
   ]
  },
  {
   "cell_type": "markdown",
   "metadata": {},
   "source": [
    "### 插入排序"
   ]
  },
  {
   "cell_type": "code",
   "execution_count": 174,
   "metadata": {},
   "outputs": [
    {
     "name": "stdout",
     "output_type": "stream",
     "text": [
      "[96, 49, 10, 40, 4, 92, 34, 41, 94, 57, 58, 91, 93, 45, 46, 37, 48, 6, 51, 58, 87, 27, 99, 43, 90, 57, 74, 50, 92, 92, 39, 92, 90, 9, 70, 45, 82, 51, 31, 86, 92, 26, 39, 27, 47, 1, 12, 68, 40, 38, 39, 25, 82, 50, 67, 79, 1, 24, 60, 74, 36, 33, 95, 51, 61, 54, 90, 24, 63, 81, 47, 51, 11, 7, 23, 37, 75, 99, 97, 94, 71, 87, 82, 50, 82, 46, 98, 50, 75, 52, 11, 12, 2, 20, 75, 93, 68, 12, 64, 20]\n",
      "[1, 1, 2, 4, 6, 7, 9, 10, 11, 11, 12, 12, 12, 20, 20, 23, 24, 24, 25, 26, 27, 27, 31, 33, 34, 36, 37, 37, 38, 39, 39, 39, 40, 40, 41, 43, 45, 45, 46, 46, 47, 47, 48, 49, 50, 50, 50, 50, 51, 51, 51, 51, 52, 54, 57, 57, 58, 58, 60, 61, 63, 64, 67, 68, 68, 70, 71, 74, 74, 75, 75, 75, 79, 81, 82, 82, 82, 82, 86, 87, 87, 90, 90, 90, 91, 92, 92, 92, 92, 92, 93, 93, 94, 94, 95, 96, 97, 98, 99, 99]\n"
     ]
    }
   ],
   "source": [
    "# 排入排序\n",
    "def binary_search(arr):\n",
    "    for i, v in enumerate(arr):\n",
    "        j = i - 1\n",
    "        while j >= 0 and arr[j] > v:\n",
    "            arr[j+1] = arr[j]\n",
    "            j = j - 1\n",
    "        arr[j + 1] = v\n",
    "    return arr\n",
    "\n",
    "# 跑用例\n",
    "from random import randint\n",
    "arr = []\n",
    "for _ in range(100):\n",
    "    arr.append(randint(1, 100))\n",
    "print(arr)\n",
    "print(binary_search(arr))"
   ]
  },
  {
   "cell_type": "code",
   "execution_count": null,
   "metadata": {},
   "outputs": [],
   "source": []
  }
 ],
 "metadata": {
  "interpreter": {
   "hash": "3f21bcc83cdad6d6268ffdaba3abb3fc18875272c09e7772d347b7e12f9a881f"
  },
  "kernelspec": {
   "display_name": "Python 3.9.5 64-bit ('Jupyter': venv)",
   "language": "python",
   "name": "python3"
  },
  "language_info": {
   "codemirror_mode": {
    "name": "ipython",
    "version": 3
   },
   "file_extension": ".py",
   "mimetype": "text/x-python",
   "name": "python",
   "nbconvert_exporter": "python",
   "pygments_lexer": "ipython3",
   "version": "3.9.5"
  },
  "orig_nbformat": 4
 },
 "nbformat": 4,
 "nbformat_minor": 2
}
