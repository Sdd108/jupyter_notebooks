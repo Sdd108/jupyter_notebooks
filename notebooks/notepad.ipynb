{
 "cells": [
  {
   "cell_type": "code",
   "execution_count": 6,
   "metadata": {},
   "outputs": [
    {
     "name": "stdout",
     "output_type": "stream",
     "text": [
      "AFamousSayingMuchAdoAboutNothing\n",
      "AaaAAbcdFgghhiimMnNnoooosSttuuuy\n",
      "A aaAAbc dFgghh: iimM nNn oooos Sttuuuy (2012/8).\n"
     ]
    }
   ],
   "source": [
    "\"\"\"\n",
    "牛客网题目链接\n",
    "https://www.nowcoder.com/practice/5190a1db6f4f4ddb92fd9c365c944584?tpId=37&tags=&title=&difficulty=&judgeStatus=&rp=0&sourceUrl=&gioEnter=menu\n",
    "\"\"\"\n",
    "\n",
    "s = 'A Famous Saying: Much Ado About Nothing (2012/8).'\n",
    "\n",
    "dic = {}\n",
    "for i, v in enumerate(s):\n",
    "    if not v.isalpha():\n",
    "        dic[i] = v\n",
    "\n",
    "s1 = ''\n",
    "for i in s:\n",
    "    if i.isalpha():\n",
    "        s1 += i\n",
    "\n",
    "print(s1)\n",
    "s2 = sorted(s1, key=str.upper)  # 得到一个列表，而不是字符串\n",
    "print(''.join(s2))\n",
    "\n",
    "arr = list(s1)\n",
    "\n",
    "# 冒泡排序思想\n",
    "length = len(arr)\n",
    "\n",
    "for i in range(length):  # 0 ≤ i < length\n",
    "    for j in range(i+1, length)[::-1]:  # i+1 ≤ j < length\n",
    "        if arr[j].lower() < arr[j-1].lower():\n",
    "            temp = arr[j-1]\n",
    "            arr[j-1] = arr[j]\n",
    "            arr[j] = temp\n",
    "\n",
    "# print(arr)\n",
    "\n",
    "for i, v in dic.items():\n",
    "    arr.insert(i, v)\n",
    "\n",
    "print(''.join(arr))\n",
    "\n"
   ]
  },
  {
   "cell_type": "code",
   "execution_count": 7,
   "metadata": {},
   "outputs": [
    {
     "name": "stdout",
     "output_type": "stream",
     "text": [
      "[' ', ' ', ' ', ' ', ' ', ' ', ' ', '(', ')', '.', '/', '0', '1', '2', '2', '8', ':', 'A', 'A', 'A', 'F', 'M', 'N', 'S', 'a', 'a', 'b', 'c', 'd', 'g', 'g', 'h', 'h', 'i', 'i', 'm', 'n', 'n', 'o', 'o', 'o', 'o', 's', 't', 't', 'u', 'u', 'u', 'y']\n"
     ]
    }
   ],
   "source": [
    "s = 'A Famous Saying: Much Ado About Nothing (2012/8).'\n",
    "\n",
    "a = sorted(s)\n",
    "print(a)\n"
   ]
  },
  {
   "cell_type": "markdown",
   "metadata": {},
   "source": [
    "### 默写冒泡排序"
   ]
  },
  {
   "cell_type": "code",
   "execution_count": null,
   "metadata": {},
   "outputs": [],
   "source": [
    "def bubble_sort(arr):\n",
    "    length = len(arr)\n",
    "    for i in range(length):  # 遍历列表\n",
    "        pass"
   ]
  },
  {
   "cell_type": "code",
   "execution_count": 11,
   "metadata": {},
   "outputs": [
    {
     "name": "stdout",
     "output_type": "stream",
     "text": [
      "[('a', 'b', 'c'), ('a', 'c', 'b'), ('b', 'a', 'c'), ('b', 'c', 'a'), ('c', 'a', 'b'), ('c', 'b', 'a')]\n",
      "['abc', 'acb', 'bac', 'bca', 'cab', 'cba']\n"
     ]
    }
   ],
   "source": [
    "from itertools import permutations\n",
    "\n",
    "a = 'abc'\n",
    "b = []\n",
    "print(list(permutations(a)))\n",
    "for i in list(permutations(a)):\n",
    "    b.append(''.join(i))\n",
    "\n",
    "print(b)"
   ]
  },
  {
   "cell_type": "code",
   "execution_count": 18,
   "metadata": {},
   "outputs": [
    {
     "name": "stdout",
     "output_type": "stream",
     "text": [
      "2\n",
      "[(1, 2), (1, 3), (2, 3)]\n",
      "False\n"
     ]
    }
   ],
   "source": [
    "from math import sqrt\n",
    "from itertools import combinations\n",
    "\n",
    "print(int(sqrt(4)))\n",
    "a = [1, 2, 3]\n",
    "aa = list(combinations(a, 2))\n",
    "print(aa)\n",
    "\n",
    "def is_prime(n):\n",
    "    if n <= 3:\n",
    "        return True\n",
    "    else:\n",
    "        end = int(sqrt(n)) + 1  # 边界加1是必要的，否则会误判4为素数\n",
    "        for i in range(2, end):\n",
    "            if n % i == 0:\n",
    "                return False\n",
    "        return True\n",
    "\n",
    "print(is_prime(4))"
   ]
  },
  {
   "cell_type": "code",
   "execution_count": 34,
   "metadata": {},
   "outputs": [
    {
     "name": "stdout",
     "output_type": "stream",
     "text": [
      "['C', 'D', 'a', 'b']\n",
      "66\n",
      "0x42\n",
      "0o27\n"
     ]
    }
   ],
   "source": [
    "a = 'CDab'\n",
    "\n",
    "print(sorted(a))\n",
    "\n",
    "\n",
    "# print('%b' % ord('B'))"
   ]
  },
  {
   "cell_type": "code",
   "execution_count": 36,
   "metadata": {},
   "outputs": [
    {
     "name": "stdout",
     "output_type": "stream",
     "text": [
      "AFDafdkdss\n"
     ]
    }
   ],
   "source": [
    "def split_sort(a):\n",
    "    # 分成奇偶两个数列\n",
    "    b1 = []\n",
    "    b2 = []\n",
    "    for i, v in enumerate(a):\n",
    "        if i % 2 != 0:\n",
    "            b1.append(v)\n",
    "        else:\n",
    "            b2.append(v)\n",
    "    # 分别排序\n",
    "    b1.sort()\n",
    "    b2.sort()\n",
    "    \n",
    "    # 归并回一个数列\n",
    "    a1 = []\n",
    "    while b1 and b2:\n",
    "        a1.append(b2.pop(0))\n",
    "        a1.append(b1.pop(0))\n",
    "    if b1:\n",
    "        a1.extend(b1)\n",
    "    else:\n",
    "        a1.extend(b2)\n",
    "    \n",
    "    # 并返回字符串\n",
    "    return ''.join(a1)\n",
    "\n",
    "def trans_char(c):\n",
    "    pass\n",
    "\n",
    "print(split_sort('fakdAFDdss'))\n"
   ]
  },
  {
   "cell_type": "code",
   "execution_count": 85,
   "metadata": {},
   "outputs": [
    {
     "name": "stdout",
     "output_type": "stream",
     "text": [
      "{'0': '0', '1': '8', '2': '4', '3': 'C', '4': '2', '5': 'A', '6': '6', '7': 'E', '8': '1', '9': '9', 'a': '5', 'A': '5', 'b': 'D', 'B': 'D', 'c': '3', 'C': '3', 'd': 'B', 'D': 'B', 'e': '7', 'E': '7', 'f': 'F', 'F': 'F'}\n",
      "Eqrv9oEb12U2ur4xu7rd931G1f50qDo\n",
      "10121243579D9GEbEdUfooqqrrrvuxu\n",
      "8084842CAE9B9G7D7BUFooqqrrrvuxu\n"
     ]
    }
   ],
   "source": [
    "def split_sort(a):\n",
    "    # 分成奇偶两个数列\n",
    "    b1 = []\n",
    "    b2 = []\n",
    "    for i, v in enumerate(a):\n",
    "        if i % 2 != 0:\n",
    "            b1.append(v)\n",
    "        else:\n",
    "            b2.append(v)\n",
    "    # 分别排序\n",
    "    b1.sort()\n",
    "    b2.sort()\n",
    "    \n",
    "    # 归并回一个数列\n",
    "    a1 = []\n",
    "    while b1 and b2:\n",
    "        a1.append(b2.pop(0))\n",
    "        a1.append(b1.pop(0))\n",
    "    if b1:\n",
    "        a1.extend(b1)\n",
    "    else:\n",
    "        a1.extend(b2)\n",
    "    \n",
    "    # 并返回字符串\n",
    "    return ''.join(a1)\n",
    "\n",
    "\n",
    "def trans_char(h):\n",
    "    a = hex(int('0b' + '{:04b}'.format(int(h, 16))[::-1], 2))[2:].upper()\n",
    "\n",
    "    return a\n",
    "\n",
    "# h = '7'\n",
    "# h1 = trans_char(h)\n",
    "# print(h1)\n",
    "# print(type(h1))\n",
    "\n",
    "\n",
    "mapper = {i: trans_char(str(i)) for i in map(str, range(0, 10))}\n",
    "mapper['a'] = trans_char('a')\n",
    "mapper['A'] = trans_char('A')\n",
    "mapper['b'] = trans_char('b')\n",
    "mapper['B'] = trans_char('B')\n",
    "mapper['c'] = trans_char('c')\n",
    "mapper['C'] = trans_char('C')\n",
    "mapper['d'] = trans_char('d')\n",
    "mapper['D'] = trans_char('D')\n",
    "mapper['e'] = trans_char('e')\n",
    "mapper['E'] = trans_char('E')\n",
    "mapper['f'] = trans_char('f')\n",
    "mapper['F'] = trans_char('F')\n",
    "print(mapper)\n",
    "\n",
    "a = 'Eqr v9oEb12U2ur4xu7rd931G1f50qDo'.replace(' ', '')\n",
    "print(a)\n",
    "a1 = split_sort(a)\n",
    "print(a1)\n",
    "\n",
    "ls = list(a1)\n",
    "for i, v in enumerate(ls):\n",
    "    if v in mapper:\n",
    "        ls[i] = mapper[v]\n",
    "\n",
    "print(''.join(ls))"
   ]
  },
  {
   "cell_type": "code",
   "execution_count": 83,
   "metadata": {},
   "outputs": [
    {
     "name": "stdout",
     "output_type": "stream",
     "text": [
      "['8', '0', '8', '4', '8', '4', '2', 'C', 'A', 'E', '9', 'B', '9', 'G', '7', 'D', '7', 'B', 'U', 'F', 'o', 'o', 'q', 'q', 'r', 'r', 'r', 'v', 'u', 'x', 'u']\n"
     ]
    }
   ],
   "source": [
    "a = '8084842CAE9B9G7D7BUFooqqrrrvuxu'\n",
    "b = list(a)\n",
    "print(b)"
   ]
  },
  {
   "cell_type": "code",
   "execution_count": 88,
   "metadata": {},
   "outputs": [
    {
     "name": "stdout",
     "output_type": "stream",
     "text": [
      "['a', 'd', 'j', 'a', 'l', 'F', 'E', 'f', 'a', 'j', 'f', 'w', 'e', 'G', 'D', 'A', '3', '2', '5', '4', '2', '3']\n",
      "['2', '2', '3', '3', '5', '4', 'D', 'A', 'E', 'F', 'a', 'G', 'a', 'a', 'e', 'd', 'f', 'f', 'j', 'j', 'l', 'w']\n"
     ]
    }
   ],
   "source": [
    "a = list('adjalFEfajfweGDA325423')\n",
    "print(a)\n",
    "\n",
    "a[::2] = sorted(a[::2])\n",
    "a[1::2] = sorted(a[1::2])\n",
    "print(a)"
   ]
  },
  {
   "cell_type": "code",
   "execution_count": 90,
   "metadata": {},
   "outputs": [
    {
     "name": "stdout",
     "output_type": "stream",
     "text": [
      "['w', 'y', 'Z', 'k', 's', 'm', 'G', ' ', 'X', 'Y', ' ', 'R', 'e', 'X', 'A', ' ', 'P', 'e', 'd', 't', ' ', 'm', 'a', 'b', 'j', 'l', 'F', 'd', 'G', 'm', 'J', 'U', 's', 'e', 'H', 'z', ' ', 'G', 'z', 'c', 'i', 'Y', 'P', 'm', 'v', ' ', 'O', 'F', 'K', 'i', 's', ' ', 'S', 'Q', 'z', 'Q', 'A', 'e', 'Q', 'e', 'x', 's', 'g', 'y', ' ', 'Z', 'V', 'r', 's', 'q', 'q', 'S', 'b', 'H', 'd', 'Q', 'F', ' ', 'A', 'K', 'P', 'J', 'E', 'C', 'i', 'P', ' ', 'v', 'O', 'g', 'I', 'X', 'v', 'b', 'u', 'J', 'T', 'D', 'n', 'p', 'P', 'c', 'C', 'D', ' ', 'G', 'W', 'l', 'P', 'W', 'T', 'G', 'Q', 'S', 'W', 'y', 'a', 'Z', 't', 'x', 'H', 'd', ' ', 'y', 'd', 'p', 'T', ' ', 'p', 'H', 'S', 'e', 'Y', 'K', 'e', 't', 'X', 'H', ' ', 'R', 'd', 'B', 'c', 'H', 'm', 'g', 'g', 'v', 'E', 'S', 'w', 'I', 'E', 'W', 'l', 'B', 't', 'Y', 'q', ' ', 'H']\n",
      "['ad', 'dkf', 'ks', 'dd']\n"
     ]
    }
   ],
   "source": [
    "a = list('wyZksmG XY ReXA Pedt mabjlFdGmJUseHz GzciYPmv OFKis SQzQAeQexsgy ZVrsqqSbHdQF AKPJECiP vOgIXvbuJTDnpPcCD GWlPWTGQSWyaZtxHd ydpT pHSeYKetXH RdBcHmggvESwIEWlBtYq H')\n",
    "\n",
    "print(a)\n"
   ]
  },
  {
   "cell_type": "code",
   "execution_count": null,
   "metadata": {},
   "outputs": [],
   "source": [
    "import requests\n",
    "\n",
    "proxy = '96.85.127.233:8080'\n",
    "proxies = {\n",
    "    'http': 'http://' + proxy,\n",
    "    'https': 'https://' + proxy,\n",
    "}\n",
    "try:\n",
    "    response = requests.get('https://www.google.com/', proxies=proxies, verify=False)\n",
    "    print(response.text)\n",
    "except requests.exceptions.ConnectionError as e:\n",
    "    print('Error', e.args)"
   ]
  },
  {
   "cell_type": "code",
   "execution_count": null,
   "metadata": {},
   "outputs": [],
   "source": [
    "from datetime import datetime\n",
    "\n",
    "class HelloWorld:\n",
    "    def __init__(self):\n",
    "        pass\n",
    "\n",
    "    def __del__(self):\n",
    "        pass\n",
    "\n",
    "    \n",
    "\n",
    "\n",
    "if __name__ == '__main__':\n",
    "    sruta = HelloWorld()\n",
    "    "
   ]
  },
  {
   "cell_type": "markdown",
   "metadata": {},
   "source": [
    "Have the function ArrayChallenge(arr) take the array of numbers stored in arr which will contain integers that represent the amount in dollars that a single stock is worth, and return the maximum profit that could have been made by buying stock on day x and selling stock on day y where y > x. For example: if arr is [44, 30, 24, 32, 35, 30, 40, 38, 15] then your program should return 16 because at index 2 the stock was worth $24 and at index 6 the stock was then worth $40, so if you bought the stock at 24 and sold it at 40, you would have made a profit of $16, which is the maximum profit that could have been made with this list of stock prices.\n",
    "\n",
    "If there is not profit that could have been made with the stock prices, then your program should return -1. For example: arr is [10, 9, 8, 2] then your program should return -1.\n"
   ]
  },
  {
   "cell_type": "code",
   "execution_count": null,
   "metadata": {},
   "outputs": [
    {
     "ename": "",
     "evalue": "",
     "output_type": "error",
     "traceback": [
      "\u001b[1;31mRunning cells with 'Python 3.9.10 64-bit' requires ipykernel package.\n",
      "Run the following command to install 'ipykernel' into the Python environment. \n",
      "Command: '/usr/local/bin/python3 -m pip install ipykernel -U --user --force-reinstall'"
     ]
    }
   ],
   "source": [
    "def solution(ls):\n",
    "    max_profit = 0\n",
    "    if ls == sorted(ls, reverse=True):  # 如果是倒序，说明一路跌，根本没机会赚\n",
    "        return -1\n",
    "    else:\n",
    "        left = 0\n",
    "        right = 1\n",
    "        while (left < right) and (right < len(ls)):\n",
    "            while left < right:\n",
    "                temp = ls[right] - ls[left]\n",
    "                if temp > max_profit:\n",
    "                    max_profit = temp\n",
    "                left += 1\n",
    "            right += 1\n",
    "            left = 0\n",
    "        return max_profit\n",
    "\n",
    "\n",
    "ls = [44, 30, 24, 32, 35, 30, 40, 38, 15]\n",
    "# ls = [10, 9, 8, 2]\n",
    "print(solution(ls))"
   ]
  },
  {
   "cell_type": "markdown",
   "metadata": {},
   "source": [
    "Have the function ArrayChallenge(strArr) read the array of strings stored in strArr, which will contain 2 elements: the first element will be a sequence of characters, and the second element will be a long string of comma-separated words, in alphabetical order, that represents a dictionary of some arbitrary length. For example: strArr can be: [\"hellocat\", \"apple,bat,cat,goodbye,hello,yellow,why\"]. Your goal is to determine if the first element in the input can be split into two words, where both words exist in the dictionary that is provided in the second input. In this example, the first element can be split into two words: hello and cat because both of those words are in the dictionary.\n",
    "\n",
    "Your program should return the two words that exist in the dictionary separated by a comma. So for the example above, your program should return hello,cat. There will only be one correct way to split the first element of characters into two words. If there is no way to split string into two words that exist in the dictionary, return the string not possible. The first element itself will never exist in the dictionary as a real word.\n"
   ]
  },
  {
   "cell_type": "code",
   "execution_count": null,
   "metadata": {},
   "outputs": [],
   "source": [
    "def solution(ls):\n",
    "    arr = ls[0]\n",
    "    d = ls[1].split(',')\n",
    "\n",
    "    for i in range(1, len(arr)):\n",
    "        left = arr[:i]\n",
    "        right = arr[i:]\n",
    "        # print(left, right)\n",
    "        if (left in d) and (right in d):\n",
    "            return ','.join([left, right])\n",
    "    return 'not possible'\n",
    "\n",
    "\n",
    "if __name__ == '__main__':\n",
    "    ls = [\"hellocat\", \"apple,bat,cat,goodbye,hello,yellow,why\"]\n",
    "    print(solution(ls))"
   ]
  },
  {
   "cell_type": "code",
   "execution_count": null,
   "metadata": {},
   "outputs": [
    {
     "ename": "",
     "evalue": "",
     "output_type": "error",
     "traceback": [
      "\u001b[1;31mRunning cells with 'Python 3.9.10 64-bit' requires ipykernel package.\n",
      "Run the following command to install 'ipykernel' into the Python environment. \n",
      "Command: '/usr/local/bin/python3 -m pip install ipykernel -U --user --force-reinstall'"
     ]
    }
   ],
   "source": [
    "# \n",
    "\n",
    "def fib(n):\n",
    "    a, b = 1, 1\n",
    "    print(a, b, end=' ')\n",
    "    while b < n:\n",
    "        a, b = b, a+b\n",
    "        print(b, end=' ')\n",
    "    print()\n",
    "\n",
    "print(fib(1000))"
   ]
  }
 ],
 "metadata": {
  "interpreter": {
   "hash": "aee8b7b246df8f9039afb4144a1f6fd8d2ca17a180786b69acc140d282b71a49"
  },
  "kernelspec": {
   "display_name": "Python 3.9.10 64-bit",
   "language": "python",
   "name": "python3"
  },
  "language_info": {
   "codemirror_mode": {
    "name": "ipython",
    "version": 3
   },
   "file_extension": ".py",
   "mimetype": "text/x-python",
   "name": "python",
   "nbconvert_exporter": "python",
   "pygments_lexer": "ipython3",
   "version": "3.9.10"
  },
  "orig_nbformat": 4
 },
 "nbformat": 4,
 "nbformat_minor": 2
}
