{
    "cells": [
        {
            "cell_type": "markdown",
            "source": [
                "# Python 备考复习"
            ],
            "metadata": {}
        },
        {
            "cell_type": "code",
            "execution_count": 3,
            "source": [
                "print(\"Hello Jupyter!\")"
            ],
            "outputs": [
                {
                    "output_type": "stream",
                    "name": "stdout",
                    "text": [
                        "Hello Jupyter!\n"
                    ]
                }
            ],
            "metadata": {}
        },
        {
            "cell_type": "code",
            "execution_count": null,
            "source": [],
            "outputs": [],
            "metadata": {}
        }
    ],
    "metadata": {
        "orig_nbformat": 4,
        "language_info": {
            "name": "python",
            "version": "3.9.5",
            "mimetype": "text/x-python",
            "codemirror_mode": {
                "name": "ipython",
                "version": 3
            },
            "pygments_lexer": "ipython3",
            "nbconvert_exporter": "python",
            "file_extension": ".py"
        },
        "kernelspec": {
            "name": "python3",
            "display_name": "Python 3.9.5 64-bit ('Jupyter': venv)"
        },
        "interpreter": {
            "hash": "e4a0dc227eab9dac3a0607979f839f48725a0dd3abbde7b97546d42aed32fe4e"
        }
    },
    "nbformat": 4,
    "nbformat_minor": 2
}