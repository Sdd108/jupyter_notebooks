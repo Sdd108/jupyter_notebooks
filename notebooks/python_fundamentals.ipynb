{
    "cells": [
        {
            "cell_type": "markdown",
            "metadata": {},
            "source": [
                "# Python 备考复习"
            ]
        },
        {
            "cell_type": "code",
            "execution_count": 3,
            "metadata": {},
            "outputs": [
                {
                    "name": "stdout",
                    "output_type": "stream",
                    "text": [
                        "Hello Jupyter!\n"
                    ]
                }
            ],
            "source": [
                "print(\"Hello Jupyter!\")"
            ]
        },
        {
            "cell_type": "markdown",
            "metadata": {},
            "source": [
                "## collections 中 defaultdict 的用法"
            ]
        },
        {
            "cell_type": "code",
            "execution_count": 16,
            "metadata": {},
            "outputs": [
                {
                    "name": "stdout",
                    "output_type": "stream",
                    "text": [
                        "0\n",
                        "set()\n",
                        "\n",
                        "[]\n"
                    ]
                }
            ],
            "source": [
                "from collections import defaultdict\n",
                "\n",
                "dict1 = defaultdict(int)\n",
                "dict2 = defaultdict(set)\n",
                "dict3 = defaultdict(str)\n",
                "dict4 = defaultdict(list)\n",
                "dict1[2] ='two'\n",
                "\n",
                "print(dict1[1])\n",
                "print(dict2[1])\n",
                "print(dict3[1])\n",
                "print(dict4[1])\n"
            ]
        },
        {
            "cell_type": "markdown",
            "metadata": {},
            "source": [
                "## 测试 print() 的 sep='' 参数"
            ]
        },
        {
            "cell_type": "code",
            "execution_count": 17,
            "metadata": {},
            "outputs": [
                {
                    "name": "stdout",
                    "output_type": "stream",
                    "text": [
                        "a-b-c\n"
                    ]
                }
            ],
            "source": [
                "\"\"\"测试 print() 的 sep='' 参数\"\"\"\n",
                "\n",
                "s = 'Monday Tuesday Wednesday Thursday Friday Saturday Sunday'.split()\n",
                "a = 'a'\n",
                "b = 'b'\n",
                "c = 'c'\n",
                "\n",
                "print(a, b, c, sep='-')\n"
            ]
        },
        {
            "cell_type": "markdown",
            "metadata": {},
            "source": [
                "## python 中 ord() chr() 函数的使用"
            ]
        },
        {
            "cell_type": "code",
            "execution_count": 5,
            "metadata": {},
            "outputs": [
                {
                    "name": "stdout",
                    "output_type": "stream",
                    "text": [
                        "88\n",
                        "y\n"
                    ]
                }
            ],
            "source": [
                "\"\"\"\n",
                "python 中 ord() chr() 函数的使用，\n",
                "用于字符的加减运算\n",
                "\"\"\"\n",
                "\n",
                "\"\"\"\n",
                "问题：密码中出现的大写字母则变成小写之后往后移一位，\n",
                "如：X ，先变成小写，再往后移一位，不就是 y 了嘛，简单吧。\n",
                "\"\"\"\n",
                "\n",
                "a = 'X'\n",
                "print(str(ord(a)))\n",
                "print(chr(ord(a.lower()) + 1))\n"
            ]
        },
        {
            "cell_type": "markdown",
            "metadata": {},
            "source": [
                "## Python replace()方法"
            ]
        },
        {
            "cell_type": "code",
            "execution_count": 6,
            "metadata": {},
            "outputs": [
                {
                    "name": "stdout",
                    "output_type": "stream",
                    "text": [
                        "flksdfjeikldfjskldfj\n"
                    ]
                }
            ],
            "source": [
                "\"\"\"在一堆字符串中删除某些字符\"\"\"\n",
                "\n",
                "s = 'falksdfjeikaldfjaskldfj'\n",
                "char_delete = 'a b c'.split()\n",
                "\n",
                "for i in s:\n",
                "    if i in char_delete:\n",
                "        s = s.replace(i, '')\n",
                "\n",
                "print(s)"
            ]
        },
        {
            "cell_type": "markdown",
            "metadata": {},
            "source": [
                "## Python 字符串加减"
            ]
        },
        {
            "cell_type": "code",
            "execution_count": 7,
            "metadata": {},
            "outputs": [
                {
                    "name": "stdout",
                    "output_type": "stream",
                    "text": [
                        "abcdef\n"
                    ]
                }
            ],
            "source": [
                "a = 'abc'\n",
                "b = 'def'\n",
                "\n",
                "print(a + b)"
            ]
        }
    ],
    "metadata": {
        "interpreter": {
            "hash": "e4a0dc227eab9dac3a0607979f839f48725a0dd3abbde7b97546d42aed32fe4e"
        },
        "kernelspec": {
            "display_name": "Python 3.9.5 64-bit ('Jupyter': venv)",
            "name": "python3"
        },
        "language_info": {
            "codemirror_mode": {
                "name": "ipython",
                "version": 3
            },
            "file_extension": ".py",
            "mimetype": "text/x-python",
            "name": "python",
            "nbconvert_exporter": "python",
            "pygments_lexer": "ipython3",
            "version": "3.9.5"
        },
        "orig_nbformat": 4
    },
    "nbformat": 4,
    "nbformat_minor": 2
}
