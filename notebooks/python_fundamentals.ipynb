{
    "cells": [
        {
            "cell_type": "markdown",
            "metadata": {},
            "source": [
                "# Python 备考复习"
            ]
        },
        {
            "cell_type": "code",
            "execution_count": 3,
            "metadata": {},
            "outputs": [
                {
                    "name": "stdout",
                    "output_type": "stream",
                    "text": [
                        "Hello Jupyter!\n"
                    ]
                }
            ],
            "source": [
                "print(\"Hello Jupyter!\")"
            ]
        },
        {
            "cell_type": "markdown",
            "metadata": {},
            "source": [
                "## collections 中 defaultdict 的用法"
            ]
        },
        {
            "cell_type": "code",
            "execution_count": 2,
            "metadata": {},
            "outputs": [
                {
                    "name": "stdout",
                    "output_type": "stream",
                    "text": [
                        "0\n",
                        "set()\n",
                        "\n",
                        "[]\n"
                    ]
                }
            ],
            "source": [
                "'''\n",
                "defaultdict的作用在于，当字典里的key不存在但被查找时，返回的不是keyError而是一个默认值\n",
                "defaultdict接受一个工厂函数作为参数，如下来构造：\n",
                "dict = defaultdict(factory_function)\n",
                "这个factory_function可以是list、set、str等等，作用是当key不存在时，返回的是工厂函数的默认值，\n",
                "比如list对应[]，str对应的是空字符串，set对应set()，int对应0\n",
                "'''\n",
                "\n",
                "from collections import defaultdict\n",
                "\n",
                "dict1 = defaultdict(int)\n",
                "dict2 = defaultdict(set)\n",
                "dict3 = defaultdict(str)\n",
                "dict4 = defaultdict(list)\n",
                "dict1[2] ='two'\n",
                "\n",
                "print(dict1[1])\n",
                "print(dict2[1])\n",
                "print(dict3[1])\n",
                "print(dict4[1])\n"
            ]
        },
        {
            "cell_type": "markdown",
            "metadata": {},
            "source": [
                "## 测试 print() 的 sep='' 参数"
            ]
        },
        {
            "cell_type": "code",
            "execution_count": 17,
            "metadata": {},
            "outputs": [
                {
                    "name": "stdout",
                    "output_type": "stream",
                    "text": [
                        "a-b-c\n"
                    ]
                }
            ],
            "source": [
                "\"\"\"测试 print() 的 sep='' 参数\"\"\"\n",
                "\n",
                "s = 'Monday Tuesday Wednesday Thursday Friday Saturday Sunday'.split()\n",
                "a = 'a'\n",
                "b = 'b'\n",
                "c = 'c'\n",
                "\n",
                "print(a, b, c, sep='-')\n"
            ]
        },
        {
            "cell_type": "markdown",
            "metadata": {},
            "source": [
                "## python 中 ord() chr() 函数的使用"
            ]
        },
        {
            "cell_type": "code",
            "execution_count": 5,
            "metadata": {},
            "outputs": [
                {
                    "name": "stdout",
                    "output_type": "stream",
                    "text": [
                        "88\n",
                        "y\n"
                    ]
                }
            ],
            "source": [
                "\"\"\"\n",
                "python 中 ord() chr() 函数的使用，\n",
                "用于字符的加减运算\n",
                "\"\"\"\n",
                "\n",
                "\"\"\"\n",
                "问题：密码中出现的大写字母则变成小写之后往后移一位，\n",
                "如：X ，先变成小写，再往后移一位，不就是 y 了嘛，简单吧。\n",
                "\"\"\"\n",
                "\n",
                "a = 'X'\n",
                "print(str(ord(a)))\n",
                "print(chr(ord(a.lower()) + 1))\n"
            ]
        },
        {
            "cell_type": "markdown",
            "metadata": {},
            "source": [
                "## Python replace()方法"
            ]
        },
        {
            "cell_type": "code",
            "execution_count": 1,
            "metadata": {},
            "outputs": [
                {
                    "name": "stdout",
                    "output_type": "stream",
                    "text": [
                        "flksdfjeikldfjskldfj\n"
                    ]
                }
            ],
            "source": [
                "\"\"\"在一堆字符串中删除某些字符\"\"\"\n",
                "\n",
                "s = 'falksdfjeikaldfjaskldfj'\n",
                "char_to_delete = 'a b c'.split()\n",
                "\n",
                "for i in s:\n",
                "    if i in char_to_delete:\n",
                "        s = s.replace(i, '')\n",
                "\n",
                "print(s)"
            ]
        },
        {
            "cell_type": "markdown",
            "metadata": {},
            "source": [
                "## Python 字符串加减"
            ]
        },
        {
            "cell_type": "code",
            "execution_count": 7,
            "metadata": {},
            "outputs": [
                {
                    "name": "stdout",
                    "output_type": "stream",
                    "text": [
                        "abcdef\n"
                    ]
                }
            ],
            "source": [
                "a = 'abc'\n",
                "b = 'def'\n",
                "\n",
                "print(a + b)"
            ]
        },
        {
            "cell_type": "markdown",
            "metadata": {},
            "source": [
                "### 字典"
            ]
        },
        {
            "cell_type": "code",
            "execution_count": 13,
            "metadata": {},
            "outputs": [
                {
                    "name": "stdout",
                    "output_type": "stream",
                    "text": [
                        "{'name': 'Zhipeng', 'age': 29, 'sex': 'male', 'occupation': 'software engineer', 'motto': 'I love my family.'}\n",
                        "name age sex occupation motto \n",
                        "Zhipeng 29 male software engineer I love my family. \n",
                        "The name is Holiday.\n",
                        "The age is 29.\n",
                        "The sex is female.\n",
                        "The occupation is yoga instructor.\n",
                        "Zhipeng\n",
                        "None\n",
                        "{'name': 'Holiday', 'age': 29, 'sex': 'female', 'occupation': 'yoga instructor', 'motto': 'I love my family.'}\n"
                    ]
                }
            ],
            "source": [
                "dict1 = {\n",
                "    'name': 'Zhipeng',\n",
                "    'age': 29,\n",
                "    'sex': 'male',\n",
                "    'occupation': 'software engineer',\n",
                "    'motto': 'I love my family.',\n",
                "}\n",
                "\n",
                "dict2 = {\n",
                "    'name': 'Holiday',\n",
                "    'age': 29,\n",
                "    'sex': 'female',\n",
                "    'occupation': 'yoga instructor',\n",
                "}\n",
                "\n",
                "print(dict1)\n",
                "\n",
                "for k in dict1.keys():\n",
                "    print(k, end=' ')\n",
                "print()\n",
                "\n",
                "for v in dict1.values():\n",
                "    print(v, end=' ')\n",
                "print()\n",
                "\n",
                "for k, v in dict2.items():\n",
                "    print(f'The {k} is {v}.')\n",
                "\n",
                "print(dict1.get('name'))\n",
                "print(dict1.get('whatever'))\n",
                "\n",
                "dict1.update(dict2)  # 把一个字典的键和值拼接到另一个字典中，当遇到键冲突时盲目地覆盖相同的键的值。\n",
                "print(dict1)\n"
            ]
        },
        {
            "cell_type": "markdown",
            "metadata": {},
            "source": [
                "### map() 函数"
            ]
        },
        {
            "cell_type": "code",
            "execution_count": 16,
            "metadata": {},
            "outputs": [
                {
                    "name": "stdout",
                    "output_type": "stream",
                    "text": [
                        "['1', '3', '34', '2']\n",
                        "[1, 3, 34, 2]\n"
                    ]
                }
            ],
            "source": [
                "# 第一个参数 function 以参数序列中的每一个元素调用 function 函数，返回包含每次 function 函数返回值的新列表。\n",
                "# Python 3.x 返回迭代器。\n",
                "\n",
                "a = ['1', '3', '34', '2']\n",
                "print(a)\n",
                "\n",
                "b = list(map(int, a))\n",
                "print(b)\n"
            ]
        },
        {
            "cell_type": "markdown",
            "metadata": {},
            "source": [
                "### sort() 的高级用法"
            ]
        },
        {
            "cell_type": "code",
            "execution_count": 9,
            "metadata": {},
            "outputs": [
                {
                    "name": "stdout",
                    "output_type": "stream",
                    "text": [
                        "['a', 'Andrew', 'from', 'is', 'string', 'test', 'This']\n",
                        "[('a', 1), ('b', 2), ('c', 3), ('d', 4)]\n"
                    ]
                }
            ],
            "source": [
                "# 这里是一个大小写不敏感的字符串比较：\n",
                "\n",
                "# list.sort()和sorted()函数使用key参数来指定一个函数，此函数将在每个元素比较前被调用。\n",
                "\n",
                "print(sorted(\"This is a test string from Andrew\".split(), key=str.lower))\n",
                "# ['a', 'Andrew', 'from', 'is', 'string', 'test', 'This']\n",
                "\n",
                "# key的值应该是一个函数，这个函数接收一个参数并且返回一个用于比较的关键字。\n",
                "# 这种技术比较快，原因在于对每个输入记录，这个函数只会被调用一次。\n",
                "\n",
                "# cmp 的使用\n",
                "arr = [('b',2),('a',1),('c',3),('d',4)]\n",
                "\n",
                "arr_sorted = sorted(arr, key=lambda x: x[1])\n",
                "print(arr_sorted)\n",
                "\n"
            ]
        },
        {
            "cell_type": "markdown",
            "metadata": {},
            "source": [
                "### 正则表达式 & python re 模块"
            ]
        },
        {
            "cell_type": "code",
            "execution_count": null,
            "metadata": {},
            "outputs": [],
            "source": [
                "import re\n",
                "\n"
            ]
        },
        {
            "cell_type": "markdown",
            "metadata": {},
            "source": [
                "### pickle 模块"
            ]
        },
        {
            "cell_type": "code",
            "execution_count": 11,
            "metadata": {},
            "outputs": [
                {
                    "name": "stdout",
                    "output_type": "stream",
                    "text": [
                        "{'a': 1, 'b': 2}\n"
                    ]
                }
            ],
            "source": [
                "import pickle\n",
                "\n",
                "def write_pickle():\n",
                "    D = {'a': 1, 'b': 2}\n",
                "    F = open('datafile.pkl', 'wb')\n",
                "\n",
                "    pickle.dump(D, F)\n",
                "    F.close()\n",
                "\n",
                "def read_pickle():\n",
                "    F = open('datafile.pkl', 'rb')\n",
                "    E = pickle.load(F)\n",
                "    print(E)\n",
                "\n",
                "# write_pickle()\n",
                "read_pickle()\n"
            ]
        },
        {
            "cell_type": "code",
            "execution_count": 4,
            "metadata": {},
            "outputs": [
                {
                    "name": "stdout",
                    "output_type": "stream",
                    "text": [
                        "Zhipeng\n",
                        "29\n",
                        "I'm eating hotpod...\n",
                        "red\n",
                        "Zhipeng 刘\n"
                    ]
                }
            ],
            "source": [
                "class Person:\n",
                "    color: str\n",
                "\n",
                "    first_name = 'Zhipeng'\n",
                "    last_name = 'Liu'\n",
                "\n",
                "    def eat(self):\n",
                "        print(\"I'm eating...\")\n",
                "    \n",
                "    def name(self):\n",
                "        return ' '.join([self.first_name, self.last_name])\n",
                "\n",
                "\n",
                "class ChinesePerson(Person):\n",
                "    province = 'Guangdong'\n",
                "    Person.last_name = '刘'  # 重写父类中的属性\n",
                "    \n",
                "    def eat(self):\n",
                "        print(\"I'm eating hotpod...\")\n",
                "\n",
                "\n",
                "\n",
                "\n",
                "\n",
                "if __name__ == '__main__':\n",
                "    sruta = ChinesePerson()\n",
                "    print(sruta.first_name)\n",
                "    sruta.age = 29  # 在类方法函数外对变量进行赋值，从而在实例命名空间内产生全新的属性。\n",
                "    print(str(sruta.age))\n",
                "    sruta.eat()\n",
                "    sruta.color = 'red'\n",
                "    print(sruta.color)\n",
                "    print(sruta.name())\n"
            ]
        },
        {
            "cell_type": "code",
            "execution_count": 18,
            "metadata": {},
            "outputs": [
                {
                    "name": "stdout",
                    "output_type": "stream",
                    "text": [
                        "['__class__', '__delattr__', '__dict__', '__dir__', '__doc__', '__eq__', '__format__', '__ge__', '__getattribute__', '__gt__', '__hash__', '__init__', '__init_subclass__', '__le__', '__lt__', '__module__', '__ne__', '__new__', '__reduce__', '__reduce_ex__', '__repr__', '__setattr__', '__sizeof__', '__str__', '__subclasshook__', '__weakref__', 'name']\n",
                        "sruta\n",
                        "sruta\n",
                        "<class '__main__.Test'>\n"
                    ]
                }
            ],
            "source": [
                "class Test:\n",
                "    def __init__(this):  # Python 中只是习惯性将类方法的第一个参数叫作 self，但并不是强制性地一定得是 self。但建议还是使用约定俗成的 self\n",
                "        this.name = 'sruta'\n",
                "    \n",
                "    def __str__(self):\n",
                "        return self.name\n",
                "\n",
                "\n",
                "sruta = Test()\n",
                "print(dir(sruta))\n",
                "print(sruta.name)\n",
                "print(sruta.__dict__['name'])  # 等价于 sruta.name\n",
                "print(sruta.__class__)"
            ]
        },
        {
            "cell_type": "code",
            "execution_count": 6,
            "metadata": {},
            "outputs": [
                {
                    "name": "stdout",
                    "output_type": "stream",
                    "text": [
                        "instance call\n",
                        "class call\n"
                    ]
                }
            ],
            "source": [
                "class NextClass:\n",
                "    def printer(self, text):\n",
                "        self.msg = text\n",
                "        print(self.msg)\n",
                "\n",
                "x = NextClass()\n",
                "x.printer('instance call')\n",
                "NextClass.printer(x, \"class call\")"
            ]
        },
        {
            "cell_type": "code",
            "execution_count": 7,
            "metadata": {},
            "outputs": [
                {
                    "name": "stdout",
                    "output_type": "stream",
                    "text": [
                        "static method call\n"
                    ]
                }
            ],
            "source": [
                "class NextClass:\n",
                "    @staticmethod\n",
                "    def printer(text):\n",
                "        print(text)\n",
                "\n",
                "NextClass.printer('static method call')"
            ]
        },
        {
            "cell_type": "code",
            "execution_count": 15,
            "metadata": {},
            "outputs": [
                {
                    "name": "stdout",
                    "output_type": "stream",
                    "text": [
                        "父类构造函数\n",
                        "父类构造函数\n",
                        "子类构造函数\n",
                        "Super\n",
                        "(<class '__main__.Super'>,)\n",
                        "(<class 'object'>,)\n"
                    ]
                }
            ],
            "source": [
                "class Super:\n",
                "    def __init__(self):\n",
                "        print('父类构造函数')\n",
                "\n",
                "\n",
                "class Sub(Super):\n",
                "    def __init__(self):\n",
                "        Super.__init__(self)\n",
                "        print('子类构造函数')\n",
                "\n",
                "\n",
                "a = Super()\n",
                "b = Sub()\n",
                "\n",
                "print(Super.__name__)\n",
                "print(Sub.__bases__)\n",
                "print(Super.__bases__)"
            ]
        },
        {
            "cell_type": "code",
            "execution_count": null,
            "metadata": {},
            "outputs": [],
            "source": [
                "from abc import ABCMeta, abstractmethod\n",
                "\n",
                "class Super(metaclass=ABCMeta):\n",
                "    @abstractmethod\n",
                "    def method(self):\n",
                "        pass\n",
                "\n"
            ]
        },
        {
            "cell_type": "code",
            "execution_count": 17,
            "metadata": {},
            "outputs": [
                {
                    "name": "stdout",
                    "output_type": "stream",
                    "text": [
                        "Tree of <__main__.selftest.<locals>.B object at 0x10efaf820>\n",
                        "...B\n",
                        "......A\n",
                        ".........object\n",
                        "Tree of <__main__.selftest.<locals>.F object at 0x10efaf820>\n",
                        "...F\n",
                        "......D\n",
                        ".........B\n",
                        "............A\n",
                        "...............object\n",
                        ".........C\n",
                        "............A\n",
                        "...............object\n",
                        "......E\n",
                        ".........object\n"
                    ]
                }
            ],
            "source": [
                "# 一个类树爬升器\n",
                "\n",
                "def classtree(cls, indent):\n",
                "    print('.' * indent + cls.__name__)\n",
                "    for supercls in cls.__bases__:\n",
                "        classtree(supercls, indent + 3)\n",
                "\n",
                "def instancetree(inst):\n",
                "    print('Tree of %s' % inst)\n",
                "    classtree(inst.__class__, 3)\n",
                "\n",
                "def selftest():\n",
                "    class A: pass\n",
                "    class B(A): pass\n",
                "    class C(A): pass\n",
                "    class D(B, C): pass\n",
                "    class E: pass\n",
                "    class F(D, E): pass\n",
                "    instancetree(B())\n",
                "    instancetree(F())\n",
                "\n",
                "if __name__ == '__main__':\n",
                "    selftest()"
            ]
        },
        {
            "cell_type": "code",
            "execution_count": 21,
            "metadata": {},
            "outputs": [
                {
                    "name": "stdout",
                    "output_type": "stream",
                    "text": [
                        "[22-05-29, 20:05:21]\n"
                    ]
                }
            ],
            "source": [
                "from datetime import datetime\n",
                "\n",
                "print(datetime.now().strftime('[%y-%m-%d, %H:%m:%S]'))"
            ]
        }
    ],
    "metadata": {
        "interpreter": {
            "hash": "3f21bcc83cdad6d6268ffdaba3abb3fc18875272c09e7772d347b7e12f9a881f"
        },
        "kernelspec": {
            "display_name": "Python 3.9.10 ('Jupyter': venv)",
            "language": "python",
            "name": "python3"
        },
        "language_info": {
            "codemirror_mode": {
                "name": "ipython",
                "version": 3
            },
            "file_extension": ".py",
            "mimetype": "text/x-python",
            "name": "python",
            "nbconvert_exporter": "python",
            "pygments_lexer": "ipython3",
            "version": "3.9.10"
        },
        "orig_nbformat": 4
    },
    "nbformat": 4,
    "nbformat_minor": 2
}
