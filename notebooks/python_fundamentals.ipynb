{
    "cells": [
        {
            "cell_type": "markdown",
            "metadata": {},
            "source": [
                "# Python 备考复习"
            ]
        },
        {
            "cell_type": "code",
            "execution_count": 3,
            "metadata": {},
            "outputs": [
                {
                    "name": "stdout",
                    "output_type": "stream",
                    "text": [
                        "Hello Jupyter!\n"
                    ]
                }
            ],
            "source": [
                "print(\"Hello Jupyter!\")"
            ]
        },
        {
            "cell_type": "code",
            "execution_count": 15,
            "metadata": {},
            "outputs": [
                {
                    "name": "stdout",
                    "output_type": "stream",
                    "text": [
                        "['python_fundamentals.ipynb']\n",
                        "['/Users/sruta/Dev/Jupyter/notebooks']\n"
                    ]
                }
            ],
            "source": [
                "import numpy as np\n",
                "import matplotlib.pyplot as plt\n",
                "\n",
                "files = !ls\n",
                "print(files)\n",
                "\n",
                "directory = !pwd\n",
                "print(directory)\n"
            ]
        }
    ],
    "metadata": {
        "interpreter": {
            "hash": "e4a0dc227eab9dac3a0607979f839f48725a0dd3abbde7b97546d42aed32fe4e"
        },
        "kernelspec": {
            "display_name": "Python 3.9.5 64-bit ('Jupyter': venv)",
            "name": "python3"
        },
        "language_info": {
            "codemirror_mode": {
                "name": "ipython",
                "version": 3
            },
            "file_extension": ".py",
            "mimetype": "text/x-python",
            "name": "python",
            "nbconvert_exporter": "python",
            "pygments_lexer": "ipython3",
            "version": "3.9.5"
        },
        "orig_nbformat": 4
    },
    "nbformat": 4,
    "nbformat_minor": 2
}
