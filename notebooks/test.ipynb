{
 "cells": [
  {
   "cell_type": "markdown",
   "metadata": {},
   "source": [
    "### python 连接 mongodb"
   ]
  },
  {
   "cell_type": "code",
   "execution_count": 4,
   "metadata": {},
   "outputs": [
    {
     "name": "stdout",
     "output_type": "stream",
     "text": [
      "Collecting PyMongo\n",
      "  Downloading pymongo-4.0.2-cp39-cp39-macosx_10_9_x86_64.whl (350 kB)\n",
      "     |████████████████████████████████| 350 kB 10 kB/s             \n",
      "\u001b[?25hInstalling collected packages: PyMongo\n",
      "Successfully installed PyMongo-4.0.2\n",
      "\u001b[33mWARNING: You are using pip version 21.3.1; however, version 22.0.4 is available.\n",
      "You should consider upgrading via the '/Users/sruta/Dev/Jupyter/bin/python -m pip install --upgrade pip' command.\u001b[0m\n"
     ]
    }
   ],
   "source": [
    "!pip3 install PyMongo"
   ]
  },
  {
   "cell_type": "code",
   "execution_count": 20,
   "metadata": {},
   "outputs": [
    {
     "name": "stdout",
     "output_type": "stream",
     "text": [
      "{'_id': ObjectId('622c9f8de6b46e16b293c7be'), 'name': 'Zhipeng Liu', 'age': 29.0}\n",
      "{'_id': ObjectId('622ca1dee6b46e16b293c7bf'), 'name': 'Sruta', 'age': 34.0}\n",
      "{'_id': ObjectId('622ca1dee6b46e16b293c7c0'), 'name': '志鹏', 'age': 34.0}\n",
      "{'_id': ObjectId('622ca1dee6b46e16b293c7c1'), 'name': 'Holiday', 'age': 18.0}\n",
      "{'_id': ObjectId('622ca2ace6b46e16b293c7c2'), 'name': 'Mr. Liu', 'age': 34.0, 'hobby': 'book reading'}\n",
      "{'_id': 123.0, 'name': 'Alan', 'other': 'as you like', 'age': 23.0}\n",
      "{'_id': ObjectId('622cbb3a19a1165ba9a657e6'), 'name': 'zhang san', 'age': 3, 'other': \"It is a good day today, isn't it?\"}\n",
      "<pymongo.results.InsertOneResult object at 0x10b7e4fc0>\n"
     ]
    }
   ],
   "source": [
    "import pymongo\n",
    "client = pymongo.MongoClient(host='localhost', port=27017)\n",
    "\n",
    "db = client.test\n",
    "collection = db.test\n",
    "result = collection.find_one({'name': 'Sruta'})\n",
    "# print(result)\n",
    "\n",
    "for i in collection.find():\n",
    "    print(i)\n",
    "    pass\n",
    "\n",
    "person = {\n",
    "    'name': 'zhang san', \n",
    "    'age': 3,\n",
    "    'other': \"It is a good day today, isn't it?\"\n",
    "}\n",
    "# r = collection.insert_one(person)\n",
    "\n",
    "\n"
   ]
  }
 ],
 "metadata": {
  "interpreter": {
   "hash": "3f21bcc83cdad6d6268ffdaba3abb3fc18875272c09e7772d347b7e12f9a881f"
  },
  "kernelspec": {
   "display_name": "Python 3.9.5 64-bit ('Jupyter': venv)",
   "language": "python",
   "name": "python3"
  },
  "language_info": {
   "codemirror_mode": {
    "name": "ipython",
    "version": 3
   },
   "file_extension": ".py",
   "mimetype": "text/x-python",
   "name": "python",
   "nbconvert_exporter": "python",
   "pygments_lexer": "ipython3",
   "version": "3.9.10"
  },
  "orig_nbformat": 4
 },
 "nbformat": 4,
 "nbformat_minor": 2
}
